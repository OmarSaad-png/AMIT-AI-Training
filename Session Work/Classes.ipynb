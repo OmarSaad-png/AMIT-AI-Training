{
 "cells": [
  {
   "cell_type": "markdown",
   "id": "86dfe7f2",
   "metadata": {},
   "source": [
    "                                **Task 1**"
   ]
  },
  {
   "cell_type": "markdown",
   "id": "8f9df21f",
   "metadata": {},
   "source": [
    "**Class Structure**"
   ]
  },
  {
   "cell_type": "code",
   "execution_count": 53,
   "id": "59209339",
   "metadata": {},
   "outputs": [],
   "source": [
    "class car():\n",
    "    def __init__ (self, brand, model, year):\n",
    "        self.brand = brand\n",
    "        self.model = model\n",
    "        self.year = year\n",
    "        self.speed = 60\n",
    "        \n",
    "    def accelerate(self):\n",
    "        if self.speed >= 200:\n",
    "            print(f\"{self.brand} has reached maximum speed.\")\n",
    "        else:\n",
    "            accel_value = self.get_acceleration_input()\n",
    "            self.speed += accel_value\n",
    "            print(f\"{self.brand} is Accelerating: {self.speed} km/h\")\n",
    "        \n",
    "    def brake(self):\n",
    "        if self.speed <= 0:\n",
    "            print(f\"{self.brand} is already stopped.\")\n",
    "        else:\n",
    "            brake_value = self.get_brake_input()\n",
    "            if self.speed < brake_value:\n",
    "                self.speed = 0\n",
    "            else:\n",
    "                self.speed -= brake_value\n",
    "            print(f\"{self.brand} is Braking: {self.speed} km/h\")\n",
    "        \n",
    "    def display_info(self):\n",
    "        print(f\"{self.brand} {self.model} {self.year}, Speed: {self.speed} km/h\")\n",
    "    \n",
    "    def get_acceleration_input(self):\n",
    "        while True:\n",
    "            try:\n",
    "                accel = int(input(f\"Enter acceleration amount for {self.brand}: \"))\n",
    "                if accel < 0:\n",
    "                    print(\"Acceleration cannot be negative. Please enter a positive value.\")\n",
    "                    continue\n",
    "                return accel\n",
    "            except ValueError:\n",
    "                print(\"Invalid input. Please enter a number.\")\n",
    "    \n",
    "    def get_brake_input(self):\n",
    "            try:\n",
    "                brake = int(input(f\"Enter braking amount for {self.brand}: \"))\n",
    "                if brake < 0:\n",
    "                    print(\"Braking amount cannot be negative. Please enter a positive value.\")\n",
    "                return brake\n",
    "            except ValueError:\n",
    "                print(\"Invalid input. Please enter a number.\")"
   ]
  },
  {
   "cell_type": "markdown",
   "id": "c0480ae0",
   "metadata": {},
   "source": [
    "**Cars Used**"
   ]
  },
  {
   "cell_type": "code",
   "execution_count": 54,
   "id": "848cf1a9",
   "metadata": {},
   "outputs": [],
   "source": [
    "car1 = car(\"Toyota\", \"Corolla\", 2020)\n",
    "car2 = car(\"Honda\", \"Civic\", 2019)"
   ]
  },
  {
   "cell_type": "markdown",
   "id": "a805fffa",
   "metadata": {},
   "source": [
    "**Scenario**"
   ]
  },
  {
   "cell_type": "code",
   "execution_count": 55,
   "id": "88e1873f",
   "metadata": {},
   "outputs": [
    {
     "name": "stdout",
     "output_type": "stream",
     "text": [
      "                                                   Base Speed: 60 km/h\n",
      "Toyota is Accelerating: 120 km/h\n",
      "Toyota Corolla 2020, Speed: 120 km/h\n",
      "----\n",
      "Honda is Braking: 40 km/h\n",
      "Honda Civic 2019, Speed: 40 km/h\n"
     ]
    }
   ],
   "source": [
    "print('                                                   Base Speed: 60 km/h')\n",
    "car1.accelerate()\n",
    "car1.display_info()\n",
    "print(\"----\")\n",
    "car2.brake()\n",
    "car2.display_info()"
   ]
  },
  {
   "cell_type": "markdown",
   "id": "f3b94682",
   "metadata": {},
   "source": [
    "                                **Task 2**"
   ]
  },
  {
   "cell_type": "markdown",
   "id": "1e758bb5",
   "metadata": {},
   "source": [
    "**Class Structure**"
   ]
  },
  {
   "cell_type": "code",
   "execution_count": 93,
   "id": "3118dec0",
   "metadata": {},
   "outputs": [],
   "source": [
    "class students():\n",
    "    s = 0\n",
    "    def __init__(self, name, age, courses):\n",
    "        self.name = name\n",
    "        self.age = age\n",
    "        self.courses = courses\n",
    "        students.s += 1\n",
    "    def display_info(self):\n",
    "        print(f\"Name: {self.name}, Age: {self.age}, No. of Courses: {self.courses}\")\n",
    "    @classmethod\n",
    "    def get_students(cls):\n",
    "        return cls.s"
   ]
  },
  {
   "cell_type": "code",
   "execution_count": 94,
   "id": "5e9907ea",
   "metadata": {},
   "outputs": [],
   "source": [
    "students1 = students(\"Alice\", 20, 3)\n",
    "students2 = students(\"Bob\", 22, 4)\n",
    "students3 = students(\"Charlie\", 21, 2)"
   ]
  },
  {
   "cell_type": "code",
   "execution_count": 95,
   "id": "1c71cefe",
   "metadata": {},
   "outputs": [
    {
     "data": {
      "text/plain": [
       "3"
      ]
     },
     "execution_count": 95,
     "metadata": {},
     "output_type": "execute_result"
    }
   ],
   "source": [
    "students.get_students()"
   ]
  }
 ],
 "metadata": {
  "kernelspec": {
   "display_name": "Python 3",
   "language": "python",
   "name": "python3"
  },
  "language_info": {
   "codemirror_mode": {
    "name": "ipython",
    "version": 3
   },
   "file_extension": ".py",
   "mimetype": "text/x-python",
   "name": "python",
   "nbconvert_exporter": "python",
   "pygments_lexer": "ipython3",
   "version": "3.13.5"
  }
 },
 "nbformat": 4,
 "nbformat_minor": 5
}
