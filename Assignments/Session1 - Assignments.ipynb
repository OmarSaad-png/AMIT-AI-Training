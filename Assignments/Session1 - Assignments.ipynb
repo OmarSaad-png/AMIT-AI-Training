{
 "cells": [
  {
   "cell_type": "markdown",
   "id": "c067dcd9",
   "metadata": {},
   "source": [
    "### Q1. Create a list of five integers and print it."
   ]
  },
  {
   "cell_type": "code",
   "execution_count": 2,
   "id": "9e8fae5c",
   "metadata": {},
   "outputs": [],
   "source": [
    "class car():\n",
    "    def __init__ (self, brand, model, year):\n",
    "        self.brand = brand\n",
    "        self.model = model\n",
    "        self.year = year\n",
    "        self.speed = 60\n",
    "    def accelerate(self):\n",
    "        if self.speed >= 200:\n",
    "            print(f\"{self.brand} has reached maximum speed.\")\n",
    "        else:\n",
    "            self.speed += 10\n",
    "            print(f\"{self.brand} is Accelerating: {self.speed} km/h\")\n",
    "        \n",
    "    def brake(self):\n",
    "        if self.speed <= 0:\n",
    "            print(f\"{self.brand} is already stopped.\")\n",
    "        else:\n",
    "            self.speed -= 10\n",
    "            print(f\"{self.brand} is Braking: {self.speed} km/h\")\n",
    "        \n",
    "    def display_info(self):\n",
    "        print(f\"{self.brand} {self.model} {self.year}, Speed: {self.speed} km/h\")"
   ]
  },
  {
   "cell_type": "code",
   "execution_count": 3,
   "id": "c4c8339c",
   "metadata": {},
   "outputs": [],
   "source": [
    "car1 = car(\"Toyota\", \"Corolla\", 2020)\n",
    "car2 = car(\"Honda\", \"Civic\", 2019)"
   ]
  },
  {
   "cell_type": "code",
   "execution_count": 4,
   "id": "d2c68a88",
   "metadata": {},
   "outputs": [
    {
     "name": "stdout",
     "output_type": "stream",
     "text": [
      "----------------------------------------------\n",
      "                                                   Base Speed: 60 km/h\n",
      "                                     _______________________________________________\n",
      "Toyota is Accelerating: 70 km/h\n",
      "Toyota Corolla 2020, Speed: 70 km/h\n",
      "----\n",
      "Honda is Braking: 50 km/h\n",
      "Honda Civic 2019, Speed: 50 km/h\n",
      "----------------------------------------------\n"
     ]
    }
   ],
   "source": [
    "print(\"----------------------------------------------\")\n",
    "print('                                                   Base Speed: 60 km/h')\n",
    "print(\"                                     _______________________________________________\")\n",
    "car1.accelerate()\n",
    "car1.display_info()\n",
    "print(\"----\")\n",
    "car2.brake()\n",
    "car2.display_info()\n",
    "print(\"----------------------------------------------\")"
   ]
  },
  {
   "cell_type": "code",
   "execution_count": 5,
   "id": "19a0e252",
   "metadata": {},
   "outputs": [
    {
     "data": {
      "text/plain": [
       "[12, 15, 3, 7, 9]"
      ]
     },
     "execution_count": 5,
     "metadata": {},
     "output_type": "execute_result"
    }
   ],
   "source": [
    "A = [12,15,3,7,9]\n",
    "A"
   ]
  },
  {
   "cell_type": "markdown",
   "id": "a2d05fd3",
   "metadata": {},
   "source": [
    "### Q2. Write a program to find the length of a list."
   ]
  },
  {
   "cell_type": "code",
   "execution_count": 6,
   "id": "6b75c5d1",
   "metadata": {},
   "outputs": [
    {
     "data": {
      "text/plain": [
       "5"
      ]
     },
     "execution_count": 6,
     "metadata": {},
     "output_type": "execute_result"
    }
   ],
   "source": [
    "len(A)"
   ]
  },
  {
   "cell_type": "markdown",
   "id": "c705d6ac",
   "metadata": {},
   "source": [
    "### Q3. Create a tuple with three elements and print the second item."
   ]
  },
  {
   "cell_type": "code",
   "execution_count": 7,
   "id": "61c1e11e",
   "metadata": {},
   "outputs": [
    {
     "name": "stdout",
     "output_type": "stream",
     "text": [
      "1\n"
     ]
    }
   ],
   "source": [
    "B = (12,15,3,7,9)\n",
    "print(B.index(15))"
   ]
  },
  {
   "cell_type": "markdown",
   "id": "a3fb1843",
   "metadata": {},
   "source": [
    "### Q4. Create a dictionary with 3 key-value pairs and print all keys."
   ]
  },
  {
   "cell_type": "code",
   "execution_count": 8,
   "id": "c588c043",
   "metadata": {},
   "outputs": [
    {
     "name": "stdout",
     "output_type": "stream",
     "text": [
      "dict_keys(['Fname', 'Lname', 'Age'])\n"
     ]
    }
   ],
   "source": [
    "C= {'Fname': \"Omar\", 'Lname': \"Saad\", 'Age': 23}\n",
    "print(C.keys())"
   ]
  },
  {
   "cell_type": "markdown",
   "id": "499c5644",
   "metadata": {},
   "source": [
    "### Q5. Write a program to convert a list into a set."
   ]
  },
  {
   "cell_type": "code",
   "execution_count": 32,
   "id": "5b3e7b61",
   "metadata": {},
   "outputs": [
    {
     "name": "stdout",
     "output_type": "stream",
     "text": [
      "<class 'list'>\n",
      "<class 'list'>\n"
     ]
    }
   ],
   "source": [
    "print(type(A))\n",
    "set(A)"
   ]
  },
  {
   "cell_type": "markdown",
   "id": "a0e55b4f",
   "metadata": {},
   "source": [
    "### Q6. Create a string and print its first and last characters."
   ]
  },
  {
   "cell_type": "code",
   "execution_count": null,
   "id": "b5cc0d08",
   "metadata": {},
   "outputs": [],
   "source": [
    "D = 'Welcome to Python'\n",
    "print(f'First character: {D[0]}')\n",
    "print(f'Last character: {D[-1]}')\n"
   ]
  },
  {
   "cell_type": "markdown",
   "id": "f4adb032",
   "metadata": {},
   "source": [
    "### Q7. Take input from the user and print it."
   ]
  },
  {
   "cell_type": "code",
   "execution_count": 11,
   "id": "cc325325",
   "metadata": {},
   "outputs": [
    {
     "name": "stdout",
     "output_type": "stream",
     "text": [
      "Hello Omar !\n"
     ]
    }
   ],
   "source": [
    "E = input(\"Enter your name: \")\n",
    "print(f'Hello {E} !')"
   ]
  },
  {
   "cell_type": "markdown",
   "id": "32003cd3",
   "metadata": {},
   "source": [
    "### Q8. Write a program to add two numbers entered by the user."
   ]
  },
  {
   "cell_type": "code",
   "execution_count": 12,
   "id": "1cce015b",
   "metadata": {},
   "outputs": [
    {
     "name": "stdout",
     "output_type": "stream",
     "text": [
      "The sum of 5 and 5 is 10\n"
     ]
    }
   ],
   "source": [
    "try:\n",
    "    N1 = int(input(\"Enter first number: \"))\n",
    "    N2 = int(input(\"Enter second number: \"))\n",
    "    s = N1 + N2\n",
    "    print(f'The sum of {N1} and {N2} is {s}')\n",
    "except ValueError:\n",
    "    print(\"Please enter a valid integer.\")"
   ]
  },
  {
   "cell_type": "markdown",
   "id": "7eb34a32",
   "metadata": {},
   "source": [
    "### Q9. Use `type()` function to check the data type of a variable."
   ]
  },
  {
   "cell_type": "code",
   "execution_count": 13,
   "id": "cfd2011d",
   "metadata": {},
   "outputs": [
    {
     "name": "stdout",
     "output_type": "stream",
     "text": [
      "<class 'list'>\n",
      "<class 'tuple'>\n",
      "<class 'dict'>\n",
      "<class 'str'>\n"
     ]
    }
   ],
   "source": [
    "print(type(A))\n",
    "print(type(B))\n",
    "print(type(C))\n",
    "print(type(D))"
   ]
  },
  {
   "cell_type": "markdown",
   "id": "be64d8e2",
   "metadata": {},
   "source": [
    "### Q10. Create a boolean variable and print it."
   ]
  },
  {
   "cell_type": "code",
   "execution_count": 14,
   "id": "46812973",
   "metadata": {},
   "outputs": [
    {
     "name": "stdout",
     "output_type": "stream",
     "text": [
      "True\n",
      "<class 'bool'>\n"
     ]
    }
   ],
   "source": [
    "bool_var = True\n",
    "print(bool_var)\n",
    "print(type(bool_var))"
   ]
  },
  {
   "cell_type": "markdown",
   "id": "53765968",
   "metadata": {},
   "source": [
    "### Q11. Check if a number is positive, negative, or zero using `if` statement."
   ]
  },
  {
   "cell_type": "code",
   "execution_count": 15,
   "id": "0623e6d5",
   "metadata": {},
   "outputs": [
    {
     "name": "stdout",
     "output_type": "stream",
     "text": [
      "The number 2 is positive and even.\n"
     ]
    }
   ],
   "source": [
    "try:\n",
    "    No = int(input(\"Enter a number: \"))\n",
    "    if No == 0:\n",
    "        print(\"The number is zero.\")\n",
    "    elif No > 0:\n",
    "        if No % 2 == 0:\n",
    "            print(f\"The number {No} is positive and even.\")\n",
    "        else:\n",
    "            print(f\"The number {No} is positive and odd.\")\n",
    "    else:\n",
    "        if No % 2 == 0:\n",
    "            print(f\"The number {No} is negative and even.\")\n",
    "        else:\n",
    "            print(f\"The number {No} is negative and odd.\")\n",
    "except ValueError:\n",
    "    \n",
    "    print(\"Please enter a valid integer.\")"
   ]
  },
  {
   "cell_type": "markdown",
   "id": "79b115a2",
   "metadata": {},
   "source": [
    "### Q12. Write a program to check if a number is even or odd."
   ]
  },
  {
   "cell_type": "code",
   "execution_count": 16,
   "id": "efcc28dc",
   "metadata": {},
   "outputs": [
    {
     "name": "stdout",
     "output_type": "stream",
     "text": [
      "The number 5 is odd.\n"
     ]
    }
   ],
   "source": [
    "No2 = int(input(\"Enter a number: \"))\n",
    "if No2 % 2 == 0:\n",
    "            print(f\"The number {No2} is even.\")\n",
    "else:\n",
    "            print(f\"The number {No2} is odd.\")"
   ]
  },
  {
   "cell_type": "markdown",
   "id": "4e15996d",
   "metadata": {},
   "source": [
    "### Q13. Write a program that prints your name 3 times using a `for` loop."
   ]
  },
  {
   "cell_type": "code",
   "execution_count": 17,
   "id": "a213b9fd",
   "metadata": {},
   "outputs": [
    {
     "name": "stdout",
     "output_type": "stream",
     "text": [
      "Omar\n",
      "Omar\n",
      "Omar\n"
     ]
    }
   ],
   "source": [
    "for i in range(3):\n",
    "    print('Omar')"
   ]
  },
  {
   "cell_type": "markdown",
   "id": "3deb94cc",
   "metadata": {},
   "source": [
    "### Q14. Write a `for` loop that prints numbers from 1 to 10."
   ]
  },
  {
   "cell_type": "code",
   "execution_count": 18,
   "id": "2f806196",
   "metadata": {},
   "outputs": [
    {
     "name": "stdout",
     "output_type": "stream",
     "text": [
      "1 2 3 4 5 6 7 8 9 10 "
     ]
    }
   ],
   "source": [
    "for i in range(1,11):\n",
    "    print(i, end=' ')"
   ]
  },
  {
   "cell_type": "markdown",
   "id": "ede90dd1",
   "metadata": {},
   "source": [
    "### Q15. Use a `for` loop to iterate over a list and print each element."
   ]
  },
  {
   "cell_type": "code",
   "execution_count": 19,
   "id": "ca9ff07e",
   "metadata": {},
   "outputs": [
    {
     "name": "stdout",
     "output_type": "stream",
     "text": [
      "12 15 3 7 9 "
     ]
    }
   ],
   "source": [
    "for i in range (len(A)):\n",
    "    print(A[i], end=' ')"
   ]
  },
  {
   "cell_type": "markdown",
   "id": "850c2ca8",
   "metadata": {},
   "source": [
    "### Q16. Write a program to calculate the sum of numbers from 1 to 100."
   ]
  },
  {
   "cell_type": "code",
   "execution_count": 20,
   "id": "16a8cd5c",
   "metadata": {},
   "outputs": [
    {
     "data": {
      "text/plain": [
       "5050"
      ]
     },
     "execution_count": 20,
     "metadata": {},
     "output_type": "execute_result"
    }
   ],
   "source": [
    "s2 = 0\n",
    "for i in range(1,101):\n",
    "    s2 += i\n",
    "s2"
   ]
  },
  {
   "cell_type": "markdown",
   "id": "6250746b",
   "metadata": {},
   "source": [
    "### Q17. Write a `for` loop that prints only even numbers from 1 to 20."
   ]
  },
  {
   "cell_type": "code",
   "execution_count": 21,
   "id": "2764eb99",
   "metadata": {},
   "outputs": [
    {
     "name": "stdout",
     "output_type": "stream",
     "text": [
      "2 4 6 8 10 12 14 16 18 20 "
     ]
    }
   ],
   "source": [
    "for i in range(1,21):\n",
    "    if i % 2 == 0:\n",
    "        print(i, end=' ')\n",
    "    else:\n",
    "        continue"
   ]
  },
  {
   "cell_type": "markdown",
   "id": "3b2408b5",
   "metadata": {},
   "source": [
    "### Q18. Write a `for` loop to print each character in a string."
   ]
  },
  {
   "cell_type": "code",
   "execution_count": 22,
   "id": "fc73c912",
   "metadata": {},
   "outputs": [
    {
     "name": "stdout",
     "output_type": "stream",
     "text": [
      "W e l c o m e   t o   P y t h o n "
     ]
    }
   ],
   "source": [
    "type(D)\n",
    "for i in range(len(D)):\n",
    "    print(D[i], end=' ')"
   ]
  },
  {
   "cell_type": "markdown",
   "id": "c75cb287",
   "metadata": {},
   "source": [
    "### Q19. Use a `for` loop to print all values in a dictionary."
   ]
  },
  {
   "cell_type": "code",
   "execution_count": 23,
   "id": "62d9d757",
   "metadata": {},
   "outputs": [
    {
     "name": "stdout",
     "output_type": "stream",
     "text": [
      "<class 'dict'>\n",
      "Fname: Omar\n",
      "Lname: Saad\n",
      "Age: 23\n"
     ]
    }
   ],
   "source": [
    "print(type(C))\n",
    "for key in C:\n",
    "    print(f'{key}: {C[key]}')       # used co-pilot"
   ]
  },
  {
   "cell_type": "markdown",
   "id": "6994e4ca",
   "metadata": {},
   "source": [
    "### Q20. Write a program that uses a `for` loop to find the factorial of a number."
   ]
  },
  {
   "cell_type": "code",
   "execution_count": null,
   "id": "254cb435",
   "metadata": {},
   "outputs": [],
   "source": [
    "try:\n",
    "    n = int(input(\"Enter a number: \"))\n",
    "    factorial = 1\n",
    "    for i in range(1, n + 1):\n",
    "        factorial *= i\n",
    "    print(f\"The factorial of {n} is {factorial}\")\n",
    "except ValueError:\n",
    "    print(\"Please enter a valid integer.\")"
   ]
  },
  {
   "cell_type": "markdown",
   "id": "92d3b300",
   "metadata": {},
   "source": [
    "### Q21. Create a list of your 5 favorite fruits."
   ]
  },
  {
   "cell_type": "code",
   "execution_count": 24,
   "id": "3f2d07e3",
   "metadata": {},
   "outputs": [],
   "source": [
    "fruits = ['apple', 'banana', 'Orange', 'grape', 'mango']"
   ]
  },
  {
   "cell_type": "markdown",
   "id": "e3433500",
   "metadata": {},
   "source": [
    "### Q22. Add a new fruit to your list of favorite fruits."
   ]
  },
  {
   "cell_type": "code",
   "execution_count": 25,
   "id": "f9ffd8d2",
   "metadata": {},
   "outputs": [],
   "source": [
    "fruits.append('pineapple')"
   ]
  },
  {
   "cell_type": "markdown",
   "id": "a33917e4",
   "metadata": {},
   "source": [
    "### Q23. Remove the second item from a list."
   ]
  },
  {
   "cell_type": "code",
   "execution_count": 26,
   "id": "0fac364c",
   "metadata": {},
   "outputs": [
    {
     "data": {
      "text/plain": [
       "['apple', 'Orange', 'grape', 'mango', 'pineapple']"
      ]
     },
     "execution_count": 26,
     "metadata": {},
     "output_type": "execute_result"
    }
   ],
   "source": [
    "fruits.remove('banana')\n",
    "fruits"
   ]
  },
  {
   "cell_type": "markdown",
   "id": "497047c6",
   "metadata": {},
   "source": [
    "### Q24. Sort a list of numbers in descending order."
   ]
  },
  {
   "cell_type": "code",
   "execution_count": 27,
   "id": "b9717e06",
   "metadata": {},
   "outputs": [
    {
     "name": "stdout",
     "output_type": "stream",
     "text": [
      "original list: [12, 15, 3, 7, 9]\n",
      "[15, 12, 9, 7, 3]\n"
     ]
    }
   ],
   "source": [
    "print ( f'original list: {A}')\n",
    "print(sorted(A, reverse=True))"
   ]
  },
  {
   "cell_type": "markdown",
   "id": "6a3a29ad",
   "metadata": {},
   "source": [
    "### Q25. Find the maximum and minimum values in a list."
   ]
  },
  {
   "cell_type": "code",
   "execution_count": 28,
   "id": "82cc41dd",
   "metadata": {},
   "outputs": [
    {
     "name": "stdout",
     "output_type": "stream",
     "text": [
      "15 3\n"
     ]
    }
   ],
   "source": [
    "print(max(A), min(A))"
   ]
  },
  {
   "cell_type": "markdown",
   "id": "a5077085",
   "metadata": {},
   "source": [
    "### Q26. Count how many times a value appears in a list."
   ]
  },
  {
   "cell_type": "code",
   "execution_count": 29,
   "id": "5953d267",
   "metadata": {},
   "outputs": [
    {
     "name": "stdout",
     "output_type": "stream",
     "text": [
      "['apple', 'Orange', 'grape', 'mango', 'pineapple', 'apple']\n",
      "2\n"
     ]
    }
   ],
   "source": [
    "fruits.append('apple')\n",
    "print(fruits)\n",
    "print(fruits.count('apple'))"
   ]
  },
  {
   "cell_type": "markdown",
   "id": "e767871e",
   "metadata": {},
   "source": [
    "### Q27. Check if a specific value exists in a list."
   ]
  },
  {
   "cell_type": "code",
   "execution_count": 30,
   "id": "97bb90bd",
   "metadata": {},
   "outputs": [
    {
     "ename": "ValueError",
     "evalue": "'kiwi' is not in list",
     "output_type": "error",
     "traceback": [
      "\u001b[31m---------------------------------------------------------------------------\u001b[39m",
      "\u001b[31mValueError\u001b[39m                                Traceback (most recent call last)",
      "\u001b[36mCell\u001b[39m\u001b[36m \u001b[39m\u001b[32mIn[30]\u001b[39m\u001b[32m, line 2\u001b[39m\n\u001b[32m      1\u001b[39m fruits.index(\u001b[33m'\u001b[39m\u001b[33mapple\u001b[39m\u001b[33m'\u001b[39m)\n\u001b[32m----> \u001b[39m\u001b[32m2\u001b[39m \u001b[43mfruits\u001b[49m\u001b[43m.\u001b[49m\u001b[43mindex\u001b[49m\u001b[43m(\u001b[49m\u001b[33;43m'\u001b[39;49m\u001b[33;43mkiwi\u001b[39;49m\u001b[33;43m'\u001b[39;49m\u001b[43m)\u001b[49m\n",
      "\u001b[31mValueError\u001b[39m: 'kiwi' is not in list"
     ]
    }
   ],
   "source": [
    "if 'apple' in fruits:\n",
    "    print(f\"Apple is in the list at index: {fruits.index('apple')}\")\n",
    "else:\n",
    "    print(\"Apple is not in the list\")\n",
    "\n",
    "if 'kiwi' in fruits:\n",
    "    print(f\"Kiwi is in the list at index: {fruits.index('kiwi')}\")\n",
    "else:\n",
    "    print(\"Kiwi is not in the list\")"
   ]
  },
  {
   "cell_type": "markdown",
   "id": "346632ba",
   "metadata": {},
   "source": [
    "### Q28. Reverse a list without using reverse() function."
   ]
  },
  {
   "cell_type": "code",
   "execution_count": null,
   "id": "663befc6",
   "metadata": {},
   "outputs": [],
   "source": [
    "H = [1, 2, 3, 4, 5]\n",
    "print(f'Original list: {H}')\n",
    "reversed_H = []\n",
    "for i in range(len(H) - 1, -1, -1):\n",
    "    reversed_H.append(H[i])\n",
    "print(f'Reversed list: {reversed_H}')"
   ]
  },
  {
   "cell_type": "markdown",
   "id": "4f28f319",
   "metadata": {},
   "source": [
    "### Q29. Make a copy of a list and modify the copy only."
   ]
  },
  {
   "cell_type": "code",
   "execution_count": null,
   "id": "e665fc96",
   "metadata": {},
   "outputs": [
    {
     "name": "stdout",
     "output_type": "stream",
     "text": [
      "fruits2 ['apple', 'Orange', 'grape', 'mango', 'pineapple', 'apple', 'watermelon']\n",
      "fruits ['apple', 'Orange', 'grape', 'mango', 'pineapple', 'apple']\n"
     ]
    }
   ],
   "source": [
    "fruits.copy()\n",
    "fruits2 = fruits.copy()\n",
    "fruits2.append('watermelon')\n",
    "print('fruits2',fruits2)\n",
    "print('fruits',fruits)"
   ]
  },
  {
   "cell_type": "markdown",
   "id": "4fd7ffdf",
   "metadata": {},
   "source": [
    "### Q30. Use slicing to get the first 3 items of a list."
   ]
  },
  {
   "cell_type": "code",
   "execution_count": null,
   "id": "5109bd94",
   "metadata": {},
   "outputs": [],
   "source": [
    "fruits = ['apple', 'banana', 'cherry', 'date', 'elderberry']\n",
    "\n",
    "print(fruits[:3])"
   ]
  },
  {
   "cell_type": "markdown",
   "id": "fa7d8cbc",
   "metadata": {},
   "source": [
    "### Q31. Create a tuple with 4 elements and print its length."
   ]
  },
  {
   "cell_type": "code",
   "execution_count": null,
   "id": "1d519f4c",
   "metadata": {},
   "outputs": [
    {
     "data": {
      "text/plain": [
       "4"
      ]
     },
     "execution_count": 66,
     "metadata": {},
     "output_type": "execute_result"
    }
   ],
   "source": [
    "G = ('Monkey', 'Lion', 'Tiger', 'Elephant')\n",
    "len(G)"
   ]
  },
  {
   "cell_type": "markdown",
   "id": "1fc14e2a",
   "metadata": {},
   "source": [
    "### Q32. Access the last element of a tuple."
   ]
  },
  {
   "cell_type": "code",
   "execution_count": null,
   "id": "924f8f7f",
   "metadata": {},
   "outputs": [
    {
     "data": {
      "text/plain": [
       "3"
      ]
     },
     "execution_count": 67,
     "metadata": {},
     "output_type": "execute_result"
    }
   ],
   "source": [
    "print(f'Last element: {G[-1]}')"
   ]
  },
  {
   "cell_type": "markdown",
   "id": "31393230",
   "metadata": {},
   "source": [
    "### Q33. Convert a tuple into a list."
   ]
  },
  {
   "cell_type": "code",
   "execution_count": null,
   "id": "d419f723",
   "metadata": {},
   "outputs": [
    {
     "name": "stdout",
     "output_type": "stream",
     "text": [
      "['Monkey', 'Lion', 'Tiger', 'Elephant']\n"
     ]
    }
   ],
   "source": [
    "G2 = list(G)\n",
    "print (G2)"
   ]
  },
  {
   "cell_type": "markdown",
   "id": "f2605bd7",
   "metadata": {},
   "source": [
    "### Q34. Convert a list into a tuple."
   ]
  },
  {
   "cell_type": "code",
   "execution_count": null,
   "id": "2fc2424c",
   "metadata": {},
   "outputs": [
    {
     "name": "stdout",
     "output_type": "stream",
     "text": [
      "('Monkey', 'Lion', 'Tiger', 'Elephant')\n"
     ]
    }
   ],
   "source": [
    "G3 = tuple(G2)\n",
    "print(G3)"
   ]
  },
  {
   "cell_type": "markdown",
   "id": "8ea26fed",
   "metadata": {},
   "source": [
    "### Q35. Check if a value exists in a tuple."
   ]
  },
  {
   "cell_type": "code",
   "execution_count": null,
   "id": "502ca8ef",
   "metadata": {},
   "outputs": [
    {
     "ename": "ValueError",
     "evalue": "tuple.index(x): x not in tuple",
     "output_type": "error",
     "traceback": [
      "\u001b[31m---------------------------------------------------------------------------\u001b[39m",
      "\u001b[31mValueError\u001b[39m                                Traceback (most recent call last)",
      "\u001b[36mCell\u001b[39m\u001b[36m \u001b[39m\u001b[32mIn[70]\u001b[39m\u001b[32m, line 2\u001b[39m\n\u001b[32m      1\u001b[39m G.index(\u001b[33m'\u001b[39m\u001b[33mLion\u001b[39m\u001b[33m'\u001b[39m)\n\u001b[32m----> \u001b[39m\u001b[32m2\u001b[39m \u001b[43mG\u001b[49m\u001b[43m.\u001b[49m\u001b[43mindex\u001b[49m\u001b[43m(\u001b[49m\u001b[33;43m'\u001b[39;49m\u001b[33;43mHuman\u001b[39;49m\u001b[33;43m'\u001b[39;49m\u001b[43m)\u001b[49m\n",
      "\u001b[31mValueError\u001b[39m: tuple.index(x): x not in tuple"
     ]
    }
   ],
   "source": [
    "try:\n",
    "    print(f\"Lion is at index: {G.index('Lion')}\")\n",
    "except ValueError:\n",
    "    print(\"Lion not found in tuple\")\n",
    "\n",
    "try:\n",
    "    print(f\"Human is at index: {G.index('Human')}\")\n",
    "except ValueError:\n",
    "    print(\"Human not found in tuple\")"
   ]
  },
  {
   "cell_type": "markdown",
   "id": "1861d487",
   "metadata": {},
   "source": [
    "### Q36. Concatenate two tuples."
   ]
  },
  {
   "cell_type": "code",
   "execution_count": null,
   "id": "25990032",
   "metadata": {},
   "outputs": [],
   "source": [
    "G2_tuple = ('Dog', 'Cat', 'Bird')\n",
    "combined_tuple = G + G2_tuple\n",
    "print(f'First tuple: {G}')\n",
    "print(f'Second tuple: {G2_tuple}')\n",
    "print(f'Combined tuple: {combined_tuple}')"
   ]
  },
  {
   "cell_type": "markdown",
   "id": "7a62f436",
   "metadata": {},
   "source": [
    "### Q37. Repeat a tuple 3 times."
   ]
  },
  {
   "cell_type": "code",
   "execution_count": null,
   "id": "1342d94a",
   "metadata": {},
   "outputs": [
    {
     "name": "stdout",
     "output_type": "stream",
     "text": [
      "('Monkey', 'Lion', 'Tiger', 'Elephant')\n",
      "('Monkey', 'Lion', 'Tiger', 'Elephant')\n",
      "('Monkey', 'Lion', 'Tiger', 'Elephant')\n"
     ]
    }
   ],
   "source": [
    "for i in range(3):\n",
    "    print(G)"
   ]
  },
  {
   "cell_type": "markdown",
   "id": "5d54389e",
   "metadata": {},
   "source": [
    "### Q38. Find the index of an element in a tuple."
   ]
  },
  {
   "cell_type": "code",
   "execution_count": null,
   "id": "3dbcc47b",
   "metadata": {},
   "outputs": [],
   "source": [
    "print(f\"Index of 'Tiger': {G.index('Tiger')}\")\n",
    "print(f\"Index of 'Monkey': {G.index('Monkey')}\")"
   ]
  },
  {
   "cell_type": "markdown",
   "id": "41e0cb37",
   "metadata": {},
   "source": [
    "### Q39. Use tuple unpacking to assign values to variables."
   ]
  },
  {
   "cell_type": "code",
   "execution_count": null,
   "id": "b38c6788",
   "metadata": {},
   "outputs": [],
   "source": [
    "animal1, animal2, animal3, animal4 = G\n",
    "print(f'First animal: {animal1}')\n",
    "print(f'Second animal: {animal2}')\n",
    "print(f'Third animal: {animal3}')\n",
    "print(f'Fourth animal: {animal4}')"
   ]
  },
  {
   "cell_type": "markdown",
   "id": "70b69ddd",
   "metadata": {},
   "source": [
    "### Q40. Create a nested list and access an inner element."
   ]
  },
  {
   "cell_type": "code",
   "execution_count": null,
   "id": "0d05b3e7",
   "metadata": {},
   "outputs": [],
   "source": [
    "nested_list = [[1, 2, 3], [4, 5, 6], [7, 8, 9]]\n",
    "print(f'Nested list: {nested_list}')\n",
    "print(f'First inner list: {nested_list[0]}')\n",
    "print(f'Element at [1][2]: {nested_list[1][2]}')"
   ]
  },
  {
   "cell_type": "markdown",
   "id": "70256f64",
   "metadata": {},
   "source": [
    "### Q41. Create a set of 5 unique colors."
   ]
  },
  {
   "cell_type": "code",
   "execution_count": null,
   "id": "4be1c2bb",
   "metadata": {},
   "outputs": [],
   "source": [
    "colors = {'red', 'blue', 'green', 'yellow', 'purple'}\n",
    "print(colors)"
   ]
  },
  {
   "cell_type": "markdown",
   "id": "774bddd7",
   "metadata": {},
   "source": [
    "### Q42. Add a new color to the set."
   ]
  },
  {
   "cell_type": "code",
   "execution_count": null,
   "id": "9129a921",
   "metadata": {},
   "outputs": [],
   "source": [
    "colors.add('orange')\n",
    "print(colors)"
   ]
  },
  {
   "cell_type": "markdown",
   "id": "3cc0470c",
   "metadata": {},
   "source": [
    "### Q43. Remove an item from the set using `remove()`."
   ]
  },
  {
   "cell_type": "code",
   "execution_count": null,
   "id": "e85423ac",
   "metadata": {},
   "outputs": [],
   "source": [
    "colors.remove('blue')\n",
    "print(colors)"
   ]
  },
  {
   "cell_type": "markdown",
   "id": "b7047e3b",
   "metadata": {},
   "source": [
    "### Q44. Use `discard()` to remove an item that may or may not exist."
   ]
  },
  {
   "cell_type": "code",
   "execution_count": null,
   "id": "adf2b3c2",
   "metadata": {},
   "outputs": [],
   "source": [
    "colors.discard('pink')  # Won't raise error if not found\n",
    "colors.discard('yellow')  # Will remove if found\n",
    "print(colors)"
   ]
  },
  {
   "cell_type": "markdown",
   "id": "0c0338ca",
   "metadata": {},
   "source": [
    "### Q45. Create a set from a list with duplicate values."
   ]
  },
  {
   "cell_type": "code",
   "execution_count": null,
   "id": "6918aaf4",
   "metadata": {},
   "outputs": [],
   "source": [
    "duplicate_list = [1, 2, 3, 3, 4, 4, 5, 5]\n",
    "print(f'List with duplicates: {duplicate_list}')\n",
    "unique_set = set(duplicate_list)\n",
    "print(f'Set without duplicates: {unique_set}')"
   ]
  },
  {
   "cell_type": "markdown",
   "id": "531ece70",
   "metadata": {},
   "source": [
    "### Q46. Find the union of two sets."
   ]
  },
  {
   "cell_type": "code",
   "execution_count": null,
   "id": "f7c8d3a1",
   "metadata": {},
   "outputs": [],
   "source": [
    "set1 = {1, 2, 3, 4}\n",
    "set2 = {3, 4, 5, 6}\n",
    "print(f'Set1: {set1}')\n",
    "print(f'Set2: {set2}')\n",
    "union_set = set1.union(set2)\n",
    "print(f'Union: {union_set}')"
   ]
  },
  {
   "cell_type": "markdown",
   "id": "37ddac6b",
   "metadata": {},
   "source": [
    "### Q47. Find the intersection of two sets."
   ]
  },
  {
   "cell_type": "code",
   "execution_count": null,
   "id": "cbb3d58f",
   "metadata": {},
   "outputs": [],
   "source": [
    "intersection_set = set1.intersection(set2)\n",
    "print(f'Intersection: {intersection_set}')"
   ]
  },
  {
   "cell_type": "markdown",
   "id": "cfba12fb",
   "metadata": {},
   "source": [
    "### Q48. Find the difference between two sets."
   ]
  },
  {
   "cell_type": "code",
   "execution_count": null,
   "id": "87d9d198",
   "metadata": {},
   "outputs": [],
   "source": [
    "difference_set = set1.difference(set2)\n",
    "print(f'Set1 - Set2: {difference_set}')\n",
    "difference_set2 = set2.difference(set1)\n",
    "print(f'Set2 - Set1: {difference_set2}')"
   ]
  },
  {
   "cell_type": "markdown",
   "id": "fe3124b5",
   "metadata": {},
   "source": [
    "### Q49. Check if a set is a subset of another set."
   ]
  },
  {
   "cell_type": "code",
   "execution_count": null,
   "id": "9414638f",
   "metadata": {},
   "outputs": [],
   "source": [
    "subset_set = {1, 2}\n",
    "print(f'Subset: {subset_set}')\n",
    "print(f'Is {subset_set} a subset of {set1}? {subset_set.issubset(set1)}')\n",
    "print(f'Is {set1} a subset of {set2}? {set1.issubset(set2)}')"
   ]
  },
  {
   "cell_type": "markdown",
   "id": "3155bdce",
   "metadata": {},
   "source": [
    "### Q50. Check if two sets are disjoint."
   ]
  },
  {
   "cell_type": "code",
   "execution_count": null,
   "id": "14b85863",
   "metadata": {},
   "outputs": [],
   "source": [
    "set3 = {7, 8, 9}\n",
    "print(f'Set1: {set1}')\n",
    "print(f'Set3: {set3}')\n",
    "print(f'Are Set1 and Set3 disjoint? {set1.isdisjoint(set3)}')\n",
    "print(f'Are Set1 and Set2 disjoint? {set1.isdisjoint(set2)}')"
   ]
  },
  {
   "cell_type": "markdown",
   "id": "bad362eb",
   "metadata": {},
   "source": [
    "### Q51. Create a dictionary with 3 items: name, age, and city."
   ]
  },
  {
   "cell_type": "code",
   "execution_count": null,
   "id": "e2ae3ccd",
   "metadata": {},
   "outputs": [],
   "source": [
    "person = {'name': 'Omar', 'age': 23, 'city': 'Cairo'}\n",
    "print(person)"
   ]
  },
  {
   "cell_type": "markdown",
   "id": "222708fb",
   "metadata": {},
   "source": [
    "### Q52. Add a new key-value pair to the dictionary."
   ]
  },
  {
   "cell_type": "code",
   "execution_count": null,
   "id": "f309e8a9",
   "metadata": {},
   "outputs": [],
   "source": [
    "person['job'] = 'Engineer'\n",
    "print(person)"
   ]
  },
  {
   "cell_type": "markdown",
   "id": "608c6307",
   "metadata": {},
   "source": [
    "### Q53. Update the value of an existing key in the dictionary."
   ]
  },
  {
   "cell_type": "code",
   "execution_count": null,
   "id": "a47b25b9",
   "metadata": {},
   "outputs": [],
   "source": [
    "person['age'] = 24\n",
    "print(f\"Updated age: {person['age']}\")\n",
    "print(person)"
   ]
  },
  {
   "cell_type": "markdown",
   "id": "99e23fe0",
   "metadata": {},
   "source": [
    "### Q54. Remove a key from the dictionary using `pop()`."
   ]
  },
  {
   "cell_type": "code",
   "execution_count": null,
   "id": "eb851e69",
   "metadata": {},
   "outputs": [],
   "source": [
    "removed_value = person.pop('city')\n",
    "print(f\"Removed 'city': {removed_value}\")\n",
    "print(person)"
   ]
  },
  {
   "cell_type": "markdown",
   "id": "c84dbe1f",
   "metadata": {},
   "source": [
    "### Q55. Check if a key exists in the dictionary."
   ]
  },
  {
   "cell_type": "code",
   "execution_count": null,
   "id": "6c8dfaec",
   "metadata": {},
   "outputs": [],
   "source": [
    "keys = person.keys()\n",
    "print(f\"Keys: {list(keys)}\")"
   ]
  },
  {
   "cell_type": "markdown",
   "id": "430ec294",
   "metadata": {},
   "source": [
    "### Q56. Loop through a dictionary and print all keys and values."
   ]
  },
  {
   "cell_type": "code",
   "execution_count": null,
   "id": "6795ec48",
   "metadata": {},
   "outputs": [],
   "source": [
    "values = person.values()\n",
    "print(f\"Values: {list(values)}\")"
   ]
  },
  {
   "cell_type": "markdown",
   "id": "da3690bb",
   "metadata": {},
   "source": [
    "### Q57. Get all keys from a dictionary using `keys()`."
   ]
  },
  {
   "cell_type": "code",
   "execution_count": null,
   "id": "cb54c698",
   "metadata": {},
   "outputs": [],
   "source": [
    "items = person.items()\n",
    "print(f\"Items: {list(items)}\")"
   ]
  },
  {
   "cell_type": "markdown",
   "id": "d31b70c5",
   "metadata": {},
   "source": [
    "### Q58. Get all values from a dictionary using `values()`."
   ]
  },
  {
   "cell_type": "code",
   "execution_count": null,
   "id": "3a766b70",
   "metadata": {},
   "outputs": [],
   "source": [
    "print(f\"Is 'name' in person? {'name' in person}\")\n",
    "print(f\"Is 'email' in person? {'email' in person}\")"
   ]
  },
  {
   "cell_type": "markdown",
   "id": "b0a9ba1f",
   "metadata": {},
   "source": [
    "### Q59. Get all key-value pairs using `items()`."
   ]
  },
  {
   "cell_type": "code",
   "execution_count": null,
   "id": "10080491",
   "metadata": {},
   "outputs": [],
   "source": [
    "person2 = {'email': 'omar@example.com', 'phone': '123-456-7890'}\n",
    "print(f\"Person: {person}\")\n",
    "print(f\"Person2: {person2}\")\n",
    "merged_dict = {**person, **person2}\n",
    "print(f\"Merged dictionary: {merged_dict}\")"
   ]
  },
  {
   "cell_type": "markdown",
   "id": "58cd862e",
   "metadata": {},
   "source": [
    "### Q60. Create a dictionary from two lists: one for keys and one for values."
   ]
  },
  {
   "cell_type": "code",
   "execution_count": null,
   "id": "24a5326f",
   "metadata": {},
   "outputs": [],
   "source": [
    "for key, value in person.items():\n",
    "    print(f\"{key}: {value}\")"
   ]
  }
 ],
 "metadata": {
  "kernelspec": {
   "display_name": "Python 3",
   "language": "python",
   "name": "python3"
  },
  "language_info": {
   "codemirror_mode": {
    "name": "ipython",
    "version": 3
   },
   "file_extension": ".py",
   "mimetype": "text/x-python",
   "name": "python",
   "nbconvert_exporter": "python",
   "pygments_lexer": "ipython3",
   "version": "3.13.5"
  }
 },
 "nbformat": 4,
 "nbformat_minor": 5
}
